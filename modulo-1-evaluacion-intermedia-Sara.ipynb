{
 "cells": [
  {
   "cell_type": "markdown",
   "metadata": {},
   "source": [
    "# Ejercicios\n",
    "\n",
    "## Parte 1: Strings\n",
    "\n",
    "1. Dada una cadena de texto, contar cuántas veces aparece una letra específica en ella. Usa un input para que el usuario elija la letra a buscar."
   ]
  },
  {
   "cell_type": "code",
   "execution_count": 2,
   "metadata": {},
   "outputs": [
    {
     "name": "stdout",
     "output_type": "stream",
     "text": [
      "La letra 's' aparece 1 veces en la cadena 'Python es un lenguaje de programación muy popular'\n"
     ]
    }
   ],
   "source": [
    "cadena = \"Python es un lenguaje de programación muy popular\"\n",
    "letra = input('Introduce una letra:').lower()\n",
    "\n",
    "#Convierte la cadena en lista para poder usar count\n",
    "\n",
    "lista_cadena = list(cadena.lower())\n",
    "\n",
    "veces = lista_cadena.count(letra)\n",
    "\n",
    "print(f\"La letra '{letra}' aparece {veces} veces en la cadena '{cadena}'\")"
   ]
  },
  {
   "cell_type": "markdown",
   "metadata": {},
   "source": [
    "2. Escribe un programa que tome la siguiente cadena de texto y reemplace una palabra específica por otra palabra. La palabra a reemplazar y reemplazada deben ser elegidas por el usuario."
   ]
  },
  {
   "cell_type": "code",
   "execution_count": 3,
   "metadata": {},
   "outputs": [
    {
     "name": "stdout",
     "output_type": "stream",
     "text": [
      "Reemplazamos 'y' con 'u'.\n",
      "Cadena original:'Python es genial. Python es fácil de aprender.'.\n",
      "Cadena final: 'Puthon es genial. Puthon es fácil de aprender.'\n"
     ]
    }
   ],
   "source": [
    "cadena = \"Python es genial. Python es fácil de aprender.\"\n",
    "reemplazada = input(f'Escribe una palabra de la cadena \"{cadena}\" para reemplazarla')\n",
    "reemplazar_con = input('Escribe una palabra para usarla como reemplazo')\n",
    "\n",
    "\n",
    "cadena_cambiada = cadena.replace(reemplazada, reemplazar_con)\n",
    "\n",
    "print(f\"Reemplazamos '{reemplazada}' con '{reemplazar_con}'.\\nCadena original:'{cadena}'.\\nCadena final: '{cadena_cambiada}'\")"
   ]
  },
  {
   "cell_type": "markdown",
   "metadata": {},
   "source": [
    "3. Toma la siguiente oración y divídela en una lista de palabras. Luego, únelas nuevamente en una sola cadena de texto."
   ]
  },
  {
   "cell_type": "code",
   "execution_count": 4,
   "metadata": {},
   "outputs": [
    {
     "name": "stdout",
     "output_type": "stream",
     "text": [
      "Oración original: 'Esto es una oración de ejemplo'.\n",
      "Lista de palabras de la oración: '['Esto', 'es', 'una', 'oración', 'de', 'ejemplo']'.\n",
      "Oracióin final reunida: 'Esto es una oración de ejemplo'.\n"
     ]
    }
   ],
   "source": [
    "oracion = \"Esto es una oración de ejemplo\"\n",
    "palabras_oracion = oracion.split(\" \")\n",
    "nueva_oracion = \" \".join(palabras_oracion)\n",
    "\n",
    "print(f\"Oración original: '{oracion}'.\\nLista de palabras de la oración: '{palabras_oracion}'.\\nOracióin final reunida: '{nueva_oracion}'.\")"
   ]
  },
  {
   "cell_type": "markdown",
   "metadata": {},
   "source": [
    "4. Desarrolla un programa que cuente cuántas palabras hay en la siguiente frase.\n"
   ]
  },
  {
   "cell_type": "code",
   "execution_count": 5,
   "metadata": {},
   "outputs": [
    {
     "name": "stdout",
     "output_type": "stream",
     "text": [
      "En la cadena: 'Esta es una cadena con cinco palabras' hay 7 palabras\n"
     ]
    }
   ],
   "source": [
    "cadena = \"Esta es una cadena con cinco palabras\"\n",
    "palabras = cadena.split(\" \")\n",
    "num_palabras = len(palabras)\n",
    "\n",
    "print(f\"En la cadena: '{cadena}' hay {num_palabras} palabras\")"
   ]
  },
  {
   "cell_type": "markdown",
   "metadata": {},
   "source": [
    "5. Escribe un programa que invierta una cadena de texto dada por un usuario. Mira el siguiente ejemplo para entender lo que se pide:  \n",
    "`# input`   \n",
    "`\"Hola buenos dias\"`  \n",
    "`# output`  \n",
    "`\"dias buenos Hola\"`  "
   ]
  },
  {
   "cell_type": "code",
   "execution_count": 6,
   "metadata": {},
   "outputs": [
    {
     "name": "stdout",
     "output_type": "stream",
     "text": [
      "La frase: 'u' invertida es 'u'\n"
     ]
    }
   ],
   "source": [
    "cadena = input('Escribe una frase:')\n",
    "lista = cadena.split(\" \")\n",
    "lista.reverse()\n",
    "cadena_inversa= \" \".join(lista)\n",
    "\n",
    "print(f\"La frase: '{cadena}' invertida es '{cadena_inversa}'\")"
   ]
  },
  {
   "cell_type": "markdown",
   "metadata": {},
   "source": [
    "6. Crea un programa que busque una palabra específica(elegida por la usuaria) en una cadena de texto e indique su posición."
   ]
  },
  {
   "cell_type": "code",
   "execution_count": 7,
   "metadata": {},
   "outputs": [
    {
     "ename": "ValueError",
     "evalue": "'y' is not in list",
     "output_type": "error",
     "traceback": [
      "\u001b[0;31m---------------------------------------------------------------------------\u001b[0m",
      "\u001b[0;31mValueError\u001b[0m                                Traceback (most recent call last)",
      "\u001b[0;32m/tmp/ipykernel_9155/317359419.py\u001b[0m in \u001b[0;36m<module>\u001b[0;34m\u001b[0m\n\u001b[1;32m      3\u001b[0m \u001b[0;34m\u001b[0m\u001b[0m\n\u001b[1;32m      4\u001b[0m \u001b[0mlista_cadena\u001b[0m \u001b[0;34m=\u001b[0m \u001b[0mcadena\u001b[0m\u001b[0;34m.\u001b[0m\u001b[0msplit\u001b[0m\u001b[0;34m(\u001b[0m\u001b[0;34m\" \"\u001b[0m\u001b[0;34m)\u001b[0m\u001b[0;34m\u001b[0m\u001b[0;34m\u001b[0m\u001b[0m\n\u001b[0;32m----> 5\u001b[0;31m \u001b[0mposicion\u001b[0m \u001b[0;34m=\u001b[0m \u001b[0mlista_cadena\u001b[0m\u001b[0;34m.\u001b[0m\u001b[0mindex\u001b[0m\u001b[0;34m(\u001b[0m\u001b[0mpalabra\u001b[0m\u001b[0;34m)\u001b[0m \u001b[0;34m+\u001b[0m \u001b[0;36m1\u001b[0m\u001b[0;34m\u001b[0m\u001b[0;34m\u001b[0m\u001b[0m\n\u001b[0m\u001b[1;32m      6\u001b[0m \u001b[0;34m\u001b[0m\u001b[0m\n\u001b[1;32m      7\u001b[0m \u001b[0mprint\u001b[0m\u001b[0;34m(\u001b[0m\u001b[0;34mf\"La palabra: '{palabra}' está en la posición: {posicion} de '{cadena}'.\"\u001b[0m\u001b[0;34m)\u001b[0m\u001b[0;34m\u001b[0m\u001b[0;34m\u001b[0m\u001b[0m\n",
      "\u001b[0;31mValueError\u001b[0m: 'y' is not in list"
     ]
    }
   ],
   "source": [
    "cadena = input('Introduce una frase') \n",
    "palabra = input(f\"Escribe una palabra de la frase anterior\")\n",
    "\n",
    "lista_cadena = cadena.split(\" \")\n",
    "posicion = lista_cadena.index(palabra) + 1\n",
    "\n",
    "print(f\"La palabra: '{palabra}' está en la posición: {posicion} de '{cadena}'.\")"
   ]
  },
  {
   "cell_type": "markdown",
   "metadata": {},
   "source": [
    "## Parte 2: Listas\n",
    "\n",
    "1. Dada la siguiente lista:   \n",
    "frutas = ['manzana', 'pera', 'banana', 'uva', 'kiwi'],\n",
    "realiza lo siguiente:  \n",
    "a) Reemplaza el segundo elemento con 'durazno'.  \n",
    "b) Agrega 'naranja' al final de la lista.  \n",
    "c) Extrae y muestra por pantalla el tercer elemento de la lista.  "
   ]
  },
  {
   "cell_type": "code",
   "execution_count": 22,
   "metadata": {},
   "outputs": [
    {
     "name": "stdout",
     "output_type": "stream",
     "text": [
      "La lista quedará así después de reemplazar 'pera' por 'durazno: ['manzana', 'durazno', 'banana', 'uva', 'kiwi'].\n",
      "La lista quedará así después de añadir 'maranja al final: ['manzana', 'durazno', 'banana', 'uva', 'kiwi', 'naranja'].\n",
      "El tercer elemento de la lista ['manzana', 'durazno', 'banana', 'uva', 'kiwi', 'naranja'] es 'banana'.\n"
     ]
    }
   ],
   "source": [
    "frutas = ['manzana', 'pera', 'banana', 'uva', 'kiwi']\n",
    "\n",
    "# Reemplaza el segundo elemento con 'durazno'\n",
    "frutas.pop(1)\n",
    "frutas.insert(1, 'durazno')\n",
    "\n",
    "print(f\"La lista quedará así después de reemplazar 'pera' por 'durazno: {frutas}.\")\n",
    "\n",
    "#Agrega 'naranja' al final de la lista.\n",
    "frutas.append('naranja')\n",
    "\n",
    "print(f\"La lista quedará así después de añadir 'maranja al final: {frutas}.\")\n",
    "\n",
    "# Extrae y muestra por pantalla el tercer elemento de la lista.  \n",
    "tercer_elemento = frutas[2]\n",
    "\n",
    "print(f\"El tercer elemento de la lista {frutas} es '{tercer_elemento}'.\")"
   ]
  },
  {
   "cell_type": "markdown",
   "metadata": {},
   "source": [
    "2. Crea una lista llamada numeros que contenga los siguientes valores: 10, 25, 15, 30, 20."
   ]
  },
  {
   "cell_type": "code",
   "execution_count": 23,
   "metadata": {},
   "outputs": [],
   "source": [
    "numeros = [ 10, 25, 15, 30, 20]"
   ]
  },
  {
   "cell_type": "markdown",
   "metadata": {},
   "source": [
    "3. Agrega el valor 35 al incio de la lista numeros."
   ]
  },
  {
   "cell_type": "code",
   "execution_count": 24,
   "metadata": {},
   "outputs": [
    {
     "data": {
      "text/plain": [
       "[35, 10, 25, 15, 30, 20]"
      ]
     },
     "execution_count": 24,
     "metadata": {},
     "output_type": "execute_result"
    }
   ],
   "source": [
    "numeros.insert(0, 35)\n",
    "numeros"
   ]
  },
  {
   "cell_type": "markdown",
   "metadata": {},
   "source": [
    "4. Ordena la lista numeros en orden ascendente."
   ]
  },
  {
   "cell_type": "code",
   "execution_count": 25,
   "metadata": {},
   "outputs": [
    {
     "data": {
      "text/plain": [
       "[10, 15, 20, 25, 30, 35]"
      ]
     },
     "execution_count": 25,
     "metadata": {},
     "output_type": "execute_result"
    }
   ],
   "source": [
    "numeros.sort()\n",
    "numeros"
   ]
  },
  {
   "cell_type": "markdown",
   "metadata": {},
   "source": [
    "5. Dada la siguiente lista   \n",
    "`numeros2 = [45, 22, 19, 38, 29]`  \n",
    "Crea una nueva lista llamada numeros3 donde tengamos la unión de los todos los elementos de las dos listas (numeros y numeros2) de tal forma que el resultado final sea:  \n",
    "`numeros3 = [10, 25, 15, 30, 20, 45, 22, 19, 38, 29]`  "
   ]
  },
  {
   "cell_type": "code",
   "execution_count": 26,
   "metadata": {},
   "outputs": [
    {
     "data": {
      "text/plain": [
       "[10, 15, 20, 25, 30, 35, 45, 22, 19, 38, 29]"
      ]
     },
     "execution_count": 26,
     "metadata": {},
     "output_type": "execute_result"
    }
   ],
   "source": [
    "numeros2 = [45, 22, 19, 38, 29]\n",
    "\n",
    "numeros3 = numeros + numeros2\n",
    "\n",
    "numeros3"
   ]
  },
  {
   "cell_type": "markdown",
   "metadata": {},
   "source": [
    "6. Elimina el último elemento de la lista numeros3."
   ]
  },
  {
   "cell_type": "code",
   "execution_count": 27,
   "metadata": {},
   "outputs": [
    {
     "name": "stdout",
     "output_type": "stream",
     "text": [
      "El último elemento de la lista es: 29.\n",
      "Después de eliminarlo, la lista queda así: [10, 15, 20, 25, 30, 35, 45, 22, 19, 38].\n"
     ]
    }
   ],
   "source": [
    "ultimo = numeros3.pop() \n",
    "\n",
    "print(f\"El último elemento de la lista es: {ultimo}.\\nDespués de eliminarlo, la lista queda así: {numeros3}.\")"
   ]
  },
  {
   "cell_type": "markdown",
   "metadata": {},
   "source": [
    "7. Elimina el número 30 de la lista numeros3."
   ]
  },
  {
   "cell_type": "code",
   "execution_count": 28,
   "metadata": {},
   "outputs": [
    {
     "name": "stdout",
     "output_type": "stream",
     "text": [
      "Después de eliminar el 30 la lista queda así: [10, 15, 20, 25, 35, 45, 22, 19, 38].\n"
     ]
    }
   ],
   "source": [
    "numeros3.remove(30)\n",
    "\n",
    "print(f\"Después de eliminar el 30 la lista queda así: {numeros3}.\")"
   ]
  },
  {
   "cell_type": "markdown",
   "metadata": {},
   "source": [
    "## Parte 3: Tuplas\n",
    "\n",
    "1. Crea una tupla llamada colores que contenga los siguientes valores: 'rojo', 'verde', 'azul', 'amarillo', 'morado'."
   ]
  },
  {
   "cell_type": "code",
   "execution_count": 29,
   "metadata": {},
   "outputs": [
    {
     "data": {
      "text/plain": [
       "('rojo', 'verde', 'azul', 'amarillo', 'morado')"
      ]
     },
     "execution_count": 29,
     "metadata": {},
     "output_type": "execute_result"
    }
   ],
   "source": [
    "colores = 'rojo', 'verde', 'azul', 'amarillo', 'morado'\n",
    "colores"
   ]
  },
  {
   "cell_type": "markdown",
   "metadata": {},
   "source": [
    "2. Encuentra el índice de 'verde' en la tupla colores."
   ]
  },
  {
   "cell_type": "code",
   "execution_count": null,
   "metadata": {},
   "outputs": [
    {
     "data": {
      "text/plain": [
       "1"
      ]
     },
     "execution_count": 29,
     "metadata": {},
     "output_type": "execute_result"
    }
   ],
   "source": [
    "colores.index('verde')"
   ]
  },
  {
   "cell_type": "markdown",
   "metadata": {},
   "source": [
    "3. ¿Cuántas veces aparece 'azul' en la tupla colores?"
   ]
  },
  {
   "cell_type": "code",
   "execution_count": null,
   "metadata": {},
   "outputs": [
    {
     "data": {
      "text/plain": [
       "1"
      ]
     },
     "execution_count": 30,
     "metadata": {},
     "output_type": "execute_result"
    }
   ],
   "source": [
    "colores.count('azul')"
   ]
  },
  {
   "cell_type": "markdown",
   "metadata": {},
   "source": [
    "4. Añade el color \"morado\" a la tupla colores. ¿Qué ha pasado? ¿Por qué? Como podríamos añadir el elemento \"morado\"."
   ]
  },
  {
   "cell_type": "code",
   "execution_count": null,
   "metadata": {},
   "outputs": [
    {
     "data": {
      "text/plain": [
       "('rojo', 'verde', 'azul', 'amarillo', 'morado', 'morado')"
      ]
     },
     "execution_count": 31,
     "metadata": {},
     "output_type": "execute_result"
    }
   ],
   "source": [
    "# Las tuplas no se pueden modificar. Para modificarla primero debemos pasarla a lista, modificarla y volverla a pasar a tupla.\n",
    "lista_colores = list(colores)\n",
    "lista_colores.append('morado')\n",
    "colores = tuple(lista_colores)\n",
    "colores"
   ]
  },
  {
   "cell_type": "markdown",
   "metadata": {},
   "source": [
    "## Parte 4: Diccionarios\n",
    "\n",
    "1. Crea un diccionario llamado frutas con las siguientes parejas clave-valor:  \n",
    "- `'manzana': 2`\n",
    "- `'banana': 3`\n",
    "- `'uva': 5`\n",
    "- `'pera': 4`"
   ]
  },
  {
   "cell_type": "code",
   "execution_count": 8,
   "metadata": {},
   "outputs": [],
   "source": [
    "frutas = {'manzana': 2, 'banana': 3, 'uva': 5, 'pera': 4}"
   ]
  },
  {
   "cell_type": "markdown",
   "metadata": {},
   "source": [
    "2. Saca una lista de todas las frutas en el diccionario."
   ]
  },
  {
   "cell_type": "code",
   "execution_count": 9,
   "metadata": {},
   "outputs": [
    {
     "data": {
      "text/plain": [
       "['manzana', 'banana', 'uva', 'pera']"
      ]
     },
     "execution_count": 9,
     "metadata": {},
     "output_type": "execute_result"
    }
   ],
   "source": [
    "frutas_dic = list(frutas.keys())\n",
    "frutas_dic"
   ]
  },
  {
   "cell_type": "markdown",
   "metadata": {},
   "source": [
    "3. Saca una lista de todas las cantidades en el diccionario."
   ]
  },
  {
   "cell_type": "code",
   "execution_count": 10,
   "metadata": {},
   "outputs": [
    {
     "data": {
      "text/plain": [
       "[2, 3, 5, 4]"
      ]
     },
     "execution_count": 10,
     "metadata": {},
     "output_type": "execute_result"
    }
   ],
   "source": [
    "cantidades = list(frutas.values())\n",
    "cantidades"
   ]
  },
  {
   "cell_type": "markdown",
   "metadata": {},
   "source": [
    "4. ¿Qué cantidad de 'manzana' tenemos?. Si la clave 'manzana' no está presente, devuelve un mensaje diciendo \"No existe esa clave\"."
   ]
  },
  {
   "cell_type": "code",
   "execution_count": 11,
   "metadata": {},
   "outputs": [
    {
     "data": {
      "text/plain": [
       "2"
      ]
     },
     "execution_count": 11,
     "metadata": {},
     "output_type": "execute_result"
    }
   ],
   "source": [
    "frutas.get('manzana', 'No existe esta clave')"
   ]
  },
  {
   "cell_type": "markdown",
   "metadata": {},
   "source": [
    "5. Agrega un nuevo par de clave-valor al diccionario frutas: 'kiwi' con una cantidad de 6."
   ]
  },
  {
   "cell_type": "code",
   "execution_count": 12,
   "metadata": {},
   "outputs": [
    {
     "data": {
      "text/plain": [
       "{'manzana': 2, 'banana': 3, 'uva': 5, 'pera': 4, 'kiwi': 6}"
      ]
     },
     "execution_count": 12,
     "metadata": {},
     "output_type": "execute_result"
    }
   ],
   "source": [
    "frutas['kiwi'] = 6\n",
    "frutas"
   ]
  },
  {
   "cell_type": "markdown",
   "metadata": {},
   "source": [
    "6. Cambia la cantidad de 'uva' a 8."
   ]
  },
  {
   "cell_type": "code",
   "execution_count": 13,
   "metadata": {},
   "outputs": [
    {
     "data": {
      "text/plain": [
       "{'manzana': 2, 'banana': 3, 'uva': 8, 'pera': 4, 'kiwi': 6}"
      ]
     },
     "execution_count": 13,
     "metadata": {},
     "output_type": "execute_result"
    }
   ],
   "source": [
    "frutas['uva'] = 8\n",
    "frutas"
   ]
  },
  {
   "cell_type": "markdown",
   "metadata": {},
   "source": [
    "7. Crea un segundo diccionario llamado frutas_nuevas con las siguientes parejas clave-valor:  \n",
    "- `'sandía': 7`\n",
    "- `'mango': 4`"
   ]
  },
  {
   "cell_type": "code",
   "execution_count": 14,
   "metadata": {},
   "outputs": [],
   "source": [
    "frutas_nuevas = {'sandía': 7, 'mango': 4}"
   ]
  },
  {
   "cell_type": "markdown",
   "metadata": {},
   "source": [
    "8. Combinar los dos diccionarios frutas_nuevas y frutas en uno nuevos llamado frutas_total."
   ]
  },
  {
   "cell_type": "code",
   "execution_count": 15,
   "metadata": {},
   "outputs": [
    {
     "data": {
      "text/plain": [
       "{'manzana': 2,\n",
       " 'banana': 3,\n",
       " 'uva': 8,\n",
       " 'pera': 4,\n",
       " 'kiwi': 6,\n",
       " 'sandía': 7,\n",
       " 'mango': 4}"
      ]
     },
     "execution_count": 15,
     "metadata": {},
     "output_type": "execute_result"
    }
   ],
   "source": [
    "frutas_total = frutas.copy()\n",
    "frutas_total.update(frutas_nuevas)\n",
    "frutas_total"
   ]
  },
  {
   "cell_type": "markdown",
   "metadata": {},
   "source": [
    "9. Elimina el último par de clave-valor del diccionario fruta_total."
   ]
  },
  {
   "cell_type": "code",
   "execution_count": 16,
   "metadata": {},
   "outputs": [
    {
     "name": "stdout",
     "output_type": "stream",
     "text": [
      "('mango', 4)\n"
     ]
    },
    {
     "data": {
      "text/plain": [
       "{'manzana': 2, 'banana': 3, 'uva': 8, 'pera': 4, 'kiwi': 6, 'sandía': 7}"
      ]
     },
     "execution_count": 16,
     "metadata": {},
     "output_type": "execute_result"
    }
   ],
   "source": [
    "print(frutas_total.popitem())\n",
    "frutas_total"
   ]
  },
  {
   "cell_type": "markdown",
   "metadata": {},
   "source": [
    "10. Elimina el par de clave-valor correspondiente a la clave 'uva' del diccionario."
   ]
  },
  {
   "cell_type": "code",
   "execution_count": 17,
   "metadata": {},
   "outputs": [
    {
     "data": {
      "text/plain": [
       "{'manzana': 2, 'banana': 3, 'pera': 4, 'kiwi': 6, 'sandía': 7}"
      ]
     },
     "execution_count": 17,
     "metadata": {},
     "output_type": "execute_result"
    }
   ],
   "source": [
    "frutas_total.pop('uva')\n",
    "frutas_total"
   ]
  },
  {
   "cell_type": "markdown",
   "metadata": {},
   "source": [
    "11. Agregar la fruta 'manzana' con una cantidad de 10 al diccionario. Si ya existe, no se realizarán cambios en los valores que teníamos."
   ]
  },
  {
   "cell_type": "code",
   "execution_count": 18,
   "metadata": {},
   "outputs": [
    {
     "data": {
      "text/plain": [
       "{'manzana': 2, 'banana': 3, 'pera': 4, 'kiwi': 6, 'sandía': 7}"
      ]
     },
     "execution_count": 18,
     "metadata": {},
     "output_type": "execute_result"
    }
   ],
   "source": [
    "frutas_total.setdefault('manzana', 10)\n",
    "frutas_total"
   ]
  },
  {
   "cell_type": "markdown",
   "metadata": {},
   "source": [
    "12. Combinar métodos de listas y diccionarios:  \n",
    "- Obtén una lista de todas las cantidades en el diccionario y calcula suma total de las cantidades del diccionario frutas_total.  \n",
    "- Utilizando la lista creada en el apartado anterior encuentra la cantidad más grande y más pequeña."
   ]
  },
  {
   "cell_type": "code",
   "execution_count": 30,
   "metadata": {},
   "outputs": [
    {
     "name": "stdout",
     "output_type": "stream",
     "text": [
      "longitud lista cantidades = 5\n",
      "La suma de todas las cantidades del diccionario frutas_total es: 22\n"
     ]
    }
   ],
   "source": [
    "# Lista cantidades del diccionario y las sumamos\n",
    "cantidades = list(frutas_total.values())\n",
    "print(f\"longitud lista cantidades = {len(cantidades)}\")\n",
    "suma = cantidades[0] + cantidades[1] + cantidades[2] + cantidades[3] + cantidades[4]\n",
    "print(f\"La suma de todas las cantidades del diccionario frutas_total es: {suma}\")"
   ]
  },
  {
   "cell_type": "markdown",
   "metadata": {},
   "source": [
    "## Parte 5: Métodos de Sets\n",
    "\n",
    "1. Crea un set llamado conjunto1 con los números del 1 al 5."
   ]
  },
  {
   "cell_type": "code",
   "execution_count": 32,
   "metadata": {},
   "outputs": [],
   "source": [
    "conjunto1 = {1, 2, 3, 4, 5}"
   ]
  },
  {
   "cell_type": "markdown",
   "metadata": {},
   "source": [
    "2. Crea otro set llamado conjunto2 con los números del 4 al 8."
   ]
  },
  {
   "cell_type": "code",
   "execution_count": 33,
   "metadata": {},
   "outputs": [],
   "source": [
    "conjunto2 = {4, 5, 6, 7, 8}"
   ]
  },
  {
   "cell_type": "markdown",
   "metadata": {},
   "source": [
    "3. Obtén la unión de conjunto1 y conjunto2."
   ]
  },
  {
   "cell_type": "code",
   "execution_count": 34,
   "metadata": {},
   "outputs": [
    {
     "data": {
      "text/plain": [
       "{1, 2, 3, 4, 5, 6, 7, 8}"
      ]
     },
     "execution_count": 34,
     "metadata": {},
     "output_type": "execute_result"
    }
   ],
   "source": [
    "conjunto1.union(conjunto2)"
   ]
  },
  {
   "cell_type": "markdown",
   "metadata": {},
   "source": [
    "4. Obtén la intersección de conjunto1 y conjunto2."
   ]
  },
  {
   "cell_type": "code",
   "execution_count": 35,
   "metadata": {},
   "outputs": [
    {
     "data": {
      "text/plain": [
       "{4, 5}"
      ]
     },
     "execution_count": 35,
     "metadata": {},
     "output_type": "execute_result"
    }
   ],
   "source": [
    "conjunto1.intersection(conjunto2)"
   ]
  },
  {
   "cell_type": "markdown",
   "metadata": {},
   "source": [
    "5. Obtén los elementos que están en conjunto1 pero no en el conjunto2."
   ]
  },
  {
   "cell_type": "code",
   "execution_count": 36,
   "metadata": {},
   "outputs": [
    {
     "data": {
      "text/plain": [
       "{1, 2, 3}"
      ]
     },
     "execution_count": 36,
     "metadata": {},
     "output_type": "execute_result"
    }
   ],
   "source": [
    "conjunto1.difference(conjunto2)"
   ]
  },
  {
   "cell_type": "markdown",
   "metadata": {},
   "source": [
    "## Parte 6: Sentencias de Control\n",
    "**Ejercicio 1: Evaluación de Edades:**\n",
    "- Escribe un programa que solicite al usuario ingresar su edad.\n",
    "- Si la edad es menor de 18, muestra \"Eres menor de edad\".\n",
    "- Si la edad está entre 18 y 65 (incluyendo ambos extremos), muestra \"Eres adulto\".\n",
    "- Si la edad es mayor o igual a 65, muestra \"Eres un adulto mayor\"."
   ]
  },
  {
   "cell_type": "code",
   "execution_count": 39,
   "metadata": {},
   "outputs": [
    {
     "name": "stdout",
     "output_type": "stream",
     "text": [
      "Eres adulto mayor\n"
     ]
    }
   ],
   "source": [
    "edad = int(input('ingresa tu edad'))\n",
    "\n",
    "if edad < 18:\n",
    "    categoria = \"menor de edad\"\n",
    "    print(f\"Eres {categoria}\")\n",
    "elif edad >= 18 and edad <= 65:\n",
    "    categoria = \"adulto\"\n",
    "    print(f\"Eres {categoria}\")\n",
    "elif edad > 65:\n",
    "    categoria = \"adulto mayor\"    \n",
    "    print(f\"Eres {categoria}\")"
   ]
  },
  {
   "cell_type": "markdown",
   "metadata": {},
   "source": [
    "**Ejercicio 2: Determinación de Día de la Semana**\n",
    "- Solicita al usuario que ingrese un número del 1 al 7.\n",
    "- Utilizando una serie de if-elif-else, muestra el día de la semana correspondiente al número ingresado. Por ejemplo, si ingresa 1, muestra \"Lunes\"."
   ]
  },
  {
   "cell_type": "code",
   "execution_count": 51,
   "metadata": {},
   "outputs": [
    {
     "name": "stdout",
     "output_type": "stream",
     "text": [
      "Te he pedido un número del 1 al 7, vuelve a empezar, haz el favor\n"
     ]
    }
   ],
   "source": [
    "numero = input('Ingresa un número entre el 1 y el 7')\n",
    "\n",
    "# Dejamos el input como string para reducir la probabilidad de errores que nos rompan el programa\n",
    "\n",
    "if numero == '1':\n",
    "    dia = 'Lunes'\n",
    "    print(f\"El día de la semana es: {dia}\")\n",
    "elif numero == '2':\n",
    "    dia = 'Martes'\n",
    "    print(f\"El día de la semana es: {dia}\")\n",
    "elif numero == '3':\n",
    "    dia = 'Miércoles'\n",
    "    print(f\"El día de la semana es: {dia}\")\n",
    "elif numero == '4':\n",
    "    dia = 'Jueves'\n",
    "    print(f\"El día de la semana es: {dia}\")\n",
    "elif numero == '5':\n",
    "    dia = 'Viernes'\n",
    "    print(f\"El día de la semana es: {dia}\")\n",
    "elif numero == '6':\n",
    "    dia = 'Sábado'\n",
    "    print(f\"El día de la semana es: {dia}\")\n",
    "elif numero == '7':\n",
    "    dia = 'Domingo'\n",
    "    print(f\"El día de la semana es: {dia}\")\n",
    "else:\n",
    "    print(\"Te he pedido un número del 1 al 7, vuelve a empezar, por favor.\")"
   ]
  },
  {
   "cell_type": "markdown",
   "metadata": {},
   "source": [
    "**Ejercicio 3: Juego de Adivinanza**\n",
    "- Genera un número aleatorio entre 1 y 100.\n",
    "- Pídele al usuario que adivine el número.\n",
    "- Si el usuario adivina correctamente en el primer intento, muestra \"¡Ganaste en el primer intento!\".\n",
    "- Si el usuario no adivina en el primer intento, bríndale pistas (mayor o menor) y permite que intente nuevamente. Muestra cuántos intentos le llevó al final."
   ]
  },
  {
   "cell_type": "code",
   "execution_count": 52,
   "metadata": {},
   "outputs": [
    {
     "name": "stdout",
     "output_type": "stream",
     "text": [
      "¡Felicidades! El número era el 52 Lo adivinaste en 8 intentos.\n"
     ]
    }
   ],
   "source": [
    "import random\n",
    "# Funcvión es_entero: Comprueba si un string es un número entero \n",
    "    # Si es entero lo castea a integer\n",
    "    # Si no es entero, pregunta al ususario hasta que este introduzca un número entero\n",
    "    # Devuelve un número entero como integer\n",
    "\n",
    "def es_entero(entrada_usuario):\n",
    "    if entrada_usuario.isdigit():\n",
    "        entrada_usuario = int(entrada_usuario)\n",
    "    else:    \n",
    "        while entrada_usuario.isdigit() == False:\n",
    "            entrada_usuario = input('Introduce un número ENTERO.')    \n",
    "        entrada_usuario = int(entrada_usuario)\n",
    "    return entrada_usuario\n",
    "\n",
    "# Generar número aleatorio entre 1 y 100, pedirle un número al usuario, comprobar que es entero, crear la variable intentos.\n",
    "numero_adivinar = random.randrange(100)\n",
    "numero = input('Adivina el numero entre 1 y 100')\n",
    "numero = es_entero(numero)\n",
    "intentos = 1\n",
    "\n",
    "# Si el usuario adivina correctamente en el primer intento, muestra \"¡Ganaste en el primer intento!\".\n",
    "if numero == numero_adivinar:\n",
    "    print( \"¡Ganaste en el primer intento!\")\n",
    "# Si el usuario no adivina en el primer intento, bríndale pistas (mayor o menor) y permite que intente nuevamente. Muestra cuántos intentos le llevó al final.\n",
    "else:\n",
    "    while numero!= numero_adivinar:\n",
    "        if numero_adivinar > numero:\n",
    "            numero = input('El número es mayor, vuelve a intentarlo. Introduce un numero entre 1 y 100')\n",
    "            numero = es_entero(numero)\n",
    "            intentos +=1\n",
    "\n",
    "        else:\n",
    "            numero = input('El número es menor, vuelve a intentarlo. Introduce un numero entre 1 y 100')\n",
    "            numero = es_entero(numero)\n",
    "            intentos +=1\n",
    "\n",
    "# Muestra cuántos intentos le llevó al final.\n",
    "print(f\"¡Felicidades! El número era el {numero_adivinar}. Lo adivinaste en {intentos} intentos.\")           "
   ]
  },
  {
   "cell_type": "markdown",
   "metadata": {},
   "source": [
    "**Ejercicio 4: Juego de Adivinar la Palabra**\n",
    "- Elige una palabra secreta y ocúltala utilizando asteriscos, por ejemplo, \"secreto\" se muestra como \"*******\".  \n",
    "- Permite al usuario adivinar letras una por una.\n",
    "- Si la letra adivinada está en la palabra secreta, muestra la palabra con las letras descubiertas y los asteriscos.\n",
    "- Si la letra no está en la palabra secreta, resta una vida al jugador.\n",
    "- El juego continúa hasta que el jugador adivine la palabra."
   ]
  },
  {
   "cell_type": "code",
   "execution_count": 1,
   "metadata": {},
   "outputs": [],
   "source": [
    "palabra_secreta = 'murcielago'\n",
    "asteriscos = '**********'\n",
    "lista_palabra = list(palabra_secreta)\n",
    "lista_asteriscos = list(asteriscos)\n",
    "lista_letras_probadas = []\n",
    "letra = input('Introduce una letra')\n",
    "vida = 20\n",
    "veces = lista_palabra.count(letra)\n",
    "\n",
    "\n",
    "while asteriscos != palabra_secreta:\n",
    "    \n",
    "    lista_letras_probadas.append(letra)\n",
    "\n",
    "    if letra in lista_palabra:\n",
    "        indice = lista_palabra.index(letra)\n",
    "        lista_asteriscos.pop(indice)\n",
    "        lista_asteriscos.insert(indice, letra)\n",
    "        \n",
    "        asteriscos = \"\".join(lista_asteriscos)\n",
    "        print(f\"Adividna la palabra: {asteriscos}\")\n",
    "        letra = input('Introduce una letra')    \n",
    "\n",
    "    else: \n",
    "        vida -= 1\n",
    "        print(f'La letra no está en la palabra. Vuelve a intentarlo. \\nLetras intentadas {lista_letras_probadas}\\nTe quedan {vida} vidas')\n",
    "        letra = input('Introduce una letra')          \n",
    "\n",
    "    "
   ]
  }
 ],
 "metadata": {
  "kernelspec": {
   "display_name": "base",
   "language": "python",
   "name": "python3"
  },
  "language_info": {
   "codemirror_mode": {
    "name": "ipython",
    "version": 3
   },
   "file_extension": ".py",
   "mimetype": "text/x-python",
   "name": "python",
   "nbconvert_exporter": "python",
   "pygments_lexer": "ipython3",
   "version": "3.9.7"
  }
 },
 "nbformat": 4,
 "nbformat_minor": 2
}
